{
 "cells": [
  {
   "cell_type": "code",
   "execution_count": 1,
   "id": "6f030290",
   "metadata": {},
   "outputs": [],
   "source": [
    "import numpy as np\n",
    "from scipy import stats\n",
    "from scipy.stats import norm"
   ]
  },
  {
   "cell_type": "code",
   "execution_count": 2,
   "id": "8ed4b601",
   "metadata": {},
   "outputs": [],
   "source": [
    "# Apply One-Sample One-Tail z-test"
   ]
  },
  {
   "cell_type": "code",
   "execution_count": 3,
   "id": "5008ea3a",
   "metadata": {},
   "outputs": [
    {
     "data": {
      "text/plain": [
       "-0.820782681668124"
      ]
     },
     "execution_count": 3,
     "metadata": {},
     "output_type": "execute_result"
    }
   ],
   "source": [
    "z_scores=(0.046-0.05)/(np.sqrt((0.05*(1-0.05))/2000))\n",
    "z_scores"
   ]
  },
  {
   "cell_type": "code",
   "execution_count": 4,
   "id": "94222975",
   "metadata": {},
   "outputs": [],
   "source": [
    "# Find Probability assuming null hyposthesis, so as to compare with Type-1 error α = 0.05"
   ]
  },
  {
   "cell_type": "code",
   "execution_count": 5,
   "id": "757fc7e9",
   "metadata": {},
   "outputs": [
    {
     "data": {
      "text/plain": [
       "0.20588503245107104"
      ]
     },
     "execution_count": 5,
     "metadata": {},
     "output_type": "execute_result"
    }
   ],
   "source": [
    "p_value=1-stats.norm.cdf(abs(z_scores))\n",
    "p_value"
   ]
  },
  {
   "cell_type": "code",
   "execution_count": null,
   "id": "3ac3dbf7",
   "metadata": {},
   "outputs": [],
   "source": []
  }
 ],
 "metadata": {
  "kernelspec": {
   "display_name": "Python 3 (ipykernel)",
   "language": "python",
   "name": "python3"
  },
  "language_info": {
   "codemirror_mode": {
    "name": "ipython",
    "version": 3
   },
   "file_extension": ".py",
   "mimetype": "text/x-python",
   "name": "python",
   "nbconvert_exporter": "python",
   "pygments_lexer": "ipython3",
   "version": "3.9.7"
  }
 },
 "nbformat": 4,
 "nbformat_minor": 5
}
